{
 "cells": [
  {
   "cell_type": "code",
   "execution_count": 1,
   "id": "1149dd0a-ecb2-44f9-9bbf-3037b13c12a7",
   "metadata": {},
   "outputs": [
    {
     "name": "stdout",
     "output_type": "stream",
     "text": [
      "Extracting parameters from /Users/jacobfeitelberg/Desktop/sarma/iclabel-python/eeglab2021.1/sample_data/eeglab_data_epochs_ica.set...\n",
      "Not setting metadata\n",
      "Not setting metadata\n",
      "80 matching events found\n",
      "No baseline correction applied\n",
      "0 projection items activated\n",
      "Ready.\n"
     ]
    },
    {
     "name": "stderr",
     "output_type": "stream",
     "text": [
      "/var/folders/94/8sjp_yhj77xf3pmh4s5v0ttm0000gn/T/ipykernel_85198/3822496865.py:8: RuntimeWarning: At least one epoch has multiple events. Only the latency of the first event will be retained.\n",
      "  epochs = mne.io.read_epochs_eeglab(eeglab_file)\n",
      "/var/folders/94/8sjp_yhj77xf3pmh4s5v0ttm0000gn/T/ipykernel_85198/3822496865.py:8: RuntimeWarning: Not setting positions of 2 eog channels found in montage:\n",
      "['EOG1', 'EOG2']\n",
      "Consider setting the channel types to be of EEG/sEEG/ECoG/DBS/fNIRS using inst.set_channel_types before calling inst.set_montage, or omit these channels when creating your montage.\n",
      "  epochs = mne.io.read_epochs_eeglab(eeglab_file)\n"
     ]
    }
   ],
   "source": [
    "import os\n",
    "import mne\n",
    "from mne.preprocessing import (ICA, create_eog_epochs, create_ecg_epochs,\n",
    "                               corrmap)\n",
    "\n",
    "eeglab_file = os.path.join('eeglab2021.1', 'sample_data', 'eeglab_data_epochs_ica.set')\n",
    "\n",
    "epochs = mne.io.read_epochs_eeglab(eeglab_file)"
   ]
  },
  {
   "cell_type": "code",
   "execution_count": 2,
   "id": "1f49ff73-0be1-47a3-817b-a1d39a5dc5b9",
   "metadata": {},
   "outputs": [
    {
     "data": {
      "text/plain": [
       "(80, 32, 384)"
      ]
     },
     "execution_count": 2,
     "metadata": {},
     "output_type": "execute_result"
    }
   ],
   "source": [
    "epochs.get_data().shape"
   ]
  },
  {
   "cell_type": "code",
   "execution_count": 3,
   "id": "c23707f0-97af-4c19-b580-89edc25b4cdd",
   "metadata": {},
   "outputs": [
    {
     "name": "stdout",
     "output_type": "stream",
     "text": [
      "Fitting ICA to data using 30 channels (please be patient, this may take a while)\n"
     ]
    },
    {
     "name": "stderr",
     "output_type": "stream",
     "text": [
      "/var/folders/94/8sjp_yhj77xf3pmh4s5v0ttm0000gn/T/ipykernel_85198/1004560286.py:2: RuntimeWarning: The data has not been high-pass filtered. For good ICA performance, it should be high-pass filtered (e.g., with a 1.0 Hz lower bound) before fitting ICA.\n",
      "  ica.fit(epochs)\n"
     ]
    },
    {
     "name": "stdout",
     "output_type": "stream",
     "text": [
      "Selecting by non-zero PCA components: 30 components\n",
      " \n",
      "Fitting ICA took 6.2s.\n"
     ]
    },
    {
     "data": {
      "text/html": [
       "\n",
       "<table class=\"table table-hover table-striped table-sm table-responsive small\">\n",
       "    <tr>\n",
       "        <th>Method</th>\n",
       "        <td>infomax</td>\n",
       "    </tr>\n",
       "    <tr>\n",
       "        <th>Fit</th>\n",
       "        <td>500 iterations on epochs (30720 samples)</td>\n",
       "    </tr>\n",
       "    <tr>\n",
       "        <th>ICA components</th>\n",
       "        <td>30</td>\n",
       "    </tr>\n",
       "    <tr>\n",
       "        <th>Explained variance</th>\n",
       "        <td>100.0&nbsp;%</td>\n",
       "    </tr>\n",
       "    <tr>\n",
       "        <th>Available PCA components</th>\n",
       "        <td>30</td>\n",
       "    </tr>\n",
       "    <tr>\n",
       "        <th>Channel types</th>\n",
       "        <td>eeg</td>\n",
       "    </tr>\n",
       "    <tr>\n",
       "        <th>ICA components marked for exclusion</th>\n",
       "        <td>&mdash;</td>\n",
       "    </tr>\n",
       "</table>\n"
      ],
      "text/plain": [
       "<ICA | epochs decomposition, method: infomax (fit in 500 iterations on 30720 samples), 30 ICA components explaining 100.0 % of variance (30 PCA components available), channel types: eeg, no sources marked for exclusion>"
      ]
     },
     "execution_count": 3,
     "metadata": {},
     "output_type": "execute_result"
    }
   ],
   "source": [
    "ica = ICA(n_components=None, max_iter='auto', random_state=97, method='infomax')\n",
    "ica.fit(epochs)\n",
    "ica"
   ]
  },
  {
   "cell_type": "code",
   "execution_count": 4,
   "id": "5de59523-6462-4c61-a776-3b9e972b5fa2",
   "metadata": {},
   "outputs": [],
   "source": [
    "import numpy as np\n",
    "\n",
    "icaact = ica.get_sources(epochs).get_data()\n",
    "icaact = np.transpose(icaact, [1,2,0])\n",
    "\n",
    "# weights (unmixing matrix)\n",
    "icaweights = ica.unmixing_matrix_\n",
    "\n",
    "icawinv = np.linalg.pinv(ica.unmixing_matrix_ @ ica.pca_components_.T)\n",
    "\n",
    "srate = 128\n",
    "pnts = 384\n",
    "trials = 80"
   ]
  },
  {
   "cell_type": "code",
   "execution_count": 5,
   "id": "c0aa4d9e-b37b-4d25-a1b4-02eeef9d77e6",
   "metadata": {},
   "outputs": [],
   "source": [
    "from eeg_features import eeg_autocorr_fftw, eeg_features, eeg_rpsd, eeg_topoplot"
   ]
  },
  {
   "cell_type": "code",
   "execution_count": 10,
   "id": "b50bce0c-4fef-4fa5-bdb0-487f089ee41b",
   "metadata": {},
   "outputs": [],
   "source": [
    "autocorr = eeg_autocorr_fftw(icaact, trials, srate, pnts=pnts)\n",
    "psds = eeg_rpsd(icaact=icaact, icaweights=icaweights, pnts=pnts, srate=srate, trials=trials)"
   ]
  },
  {
   "cell_type": "code",
   "execution_count": 6,
   "id": "f9da264e-72a2-48bb-8fb9-50c0064b26e3",
   "metadata": {},
   "outputs": [],
   "source": [
    "def mne_to_eeglab_locs(raw):\n",
    "    def sph2topo(theta,phi):\n",
    "        az = phi\n",
    "        horiz = theta\n",
    "        angle  = -1*horiz\n",
    "        radius = (np.pi/2 - az)/np.pi\n",
    "        return angle,radius\n",
    "\n",
    "    def cart2sph(x,y,z):\n",
    "        azimuth = np.arctan2(y,x)\n",
    "        elevation = np.arctan2(z,np.sqrt(x**2 + y**2))\n",
    "        r = np.sqrt(x**2 + y**2 + z**2)\n",
    "        # theta,phi,r\n",
    "        return azimuth, elevation, r\n",
    "    \n",
    "    locs = raw._get_channel_positions()\n",
    "\n",
    "    #%% Obtain carthesian coordinates\n",
    "    X = locs[:,1]\n",
    "    Y = -1*locs[:,0] # be mindful of the nose orientation in eeglab and mne \n",
    "    # see https://github.com/mne-tools/mne-python/blob/24377ad3200b6099ed47576e9cf8b27578d571ef/mne/io/eeglab/eeglab.py#L105\n",
    "    Z = locs[:,2]\n",
    "\n",
    "    #%% Obtain Spherical Coordinates \n",
    "    sph = np.array([cart2sph(X[i],Y[i],Z[i]) for i in range(len(X))])\n",
    "    theta = sph[:,0]\n",
    "    phi = sph[:,1]\n",
    "\n",
    "    #%% Obtain Polar coordinates (as in eeglab)\n",
    "    topo = np.array([sph2topo(theta[i],phi[i]) for i in range(len(theta))])\n",
    "    Rd = topo[:,1]\n",
    "    Th = topo[:,0]\n",
    "    \n",
    "    return Rd.reshape([1,-1]), np.degrees(Th).reshape([1,-1])"
   ]
  },
  {
   "cell_type": "code",
   "execution_count": 7,
   "id": "95e8054f-692c-4a61-a9ae-025c748297f2",
   "metadata": {},
   "outputs": [],
   "source": [
    "Rd, Th = mne_to_eeglab_locs(epochs)"
   ]
  },
  {
   "cell_type": "code",
   "execution_count": 15,
   "id": "9ebb2405-344b-4103-a5e3-9710aa848f7d",
   "metadata": {},
   "outputs": [],
   "source": [
    "import scipy.io as sio"
   ]
  },
  {
   "cell_type": "code",
   "execution_count": 48,
   "id": "4ef095da-ecea-4b25-a761-238dbac37580",
   "metadata": {},
   "outputs": [],
   "source": [
    "topoplot_data = sio.loadmat('test_data/topoplot_data.mat')\n",
    "\n",
    "# Inputs\n",
    "# icawinv = topoplot_data['icawinv']\n",
    "rd = topoplot_data['Rd']\n",
    "th = topoplot_data['Th']\n",
    "plotchans = topoplot_data['plotchans']"
   ]
  },
  {
   "cell_type": "code",
   "execution_count": 72,
   "id": "43314bb6-a55c-4850-861b-92dbab3b95c9",
   "metadata": {},
   "outputs": [],
   "source": [
    "import warnings\n",
    "\n",
    "def pol2cart(theta: np.array, rho: np.array) -> tuple[np.array, np.array]:\n",
    "    \"\"\"\n",
    "    Converts polar coordinates to cartesian coordinates.\n",
    "\n",
    "    Args:\n",
    "        theta (np.array): angle\n",
    "        rho (np.array): magnitude\n",
    "    \"\"\"\n",
    "    x = rho * np.cos(theta)\n",
    "    y = rho * np.sin(theta)\n",
    "    return x, y\n",
    "\n",
    "\n",
    "def mergesimpts(data: np.array, tols: list[np.array, np.array, np.array], mode: str = 'average') -> np.array:\n",
    "    \"\"\"\n",
    "\n",
    "    Args:\n",
    "        data (np.array): [description]\n",
    "        tols (list[np.array, np.array, np.array]): [description]\n",
    "        mode (str, optional): [description]. Defaults to 'average'.\n",
    "\n",
    "    Returns:\n",
    "        np.array: [description]\n",
    "    \"\"\"\n",
    "    data_ = data.copy()[np.argsort(data[:, 0])]\n",
    "    newdata = []\n",
    "    tols_ = np.array(tols)\n",
    "    idxs_ready = []\n",
    "    point = 0\n",
    "    for point in range(data_.shape[0]):\n",
    "        if point in idxs_ready:\n",
    "            continue\n",
    "        else:\n",
    "            similar_pts = np.where(np.prod(np.abs(data_ - data_[point]) < tols_, axis=-1))\n",
    "            similar_pts = np.array(list(set(similar_pts[0].tolist()) - set(idxs_ready)))\n",
    "            idxs_ready += similar_pts.tolist()\n",
    "            if mode == 'average':\n",
    "                exemplar = np.mean(data_[similar_pts], axis=0)\n",
    "            else:\n",
    "                exemplar = data_[similar_pts].copy()[0]  # first\n",
    "            newdata.append(exemplar)\n",
    "    return np.array(newdata)\n",
    "\n",
    "\n",
    "def mergepoints2D(x: np.array, y: np.array, v: np.array) -> tuple[np.array, np.array, np.array]:\n",
    "    \"\"\"\n",
    "    Averages values for points that are close to each other.\n",
    "\n",
    "    Args:\n",
    "        x (np.array): x-coordinates\n",
    "        y (np.array): y-coordinates\n",
    "        v (np.array): values\n",
    "\n",
    "    Returns:\n",
    "        tuple[np.array, np.array, np.array]: [description]\n",
    "    \"\"\"\n",
    "    # Sort x and y so duplicate points can be averaged\n",
    "    # Need x,y and z to be column vectors\n",
    "    sz = x.size\n",
    "    x = x.copy()\n",
    "    y = y.copy()\n",
    "    v = v.copy()\n",
    "    x = np.reshape(x, sz, order='F')\n",
    "    y = np.reshape(y, sz, order='F')\n",
    "    v = np.reshape(v, sz, order='F')\n",
    "\n",
    "    myepsx = np.spacing(0.5 * (np.max(x) - np.min(x))) ** (1 / 3)\n",
    "    myepsy = np.spacing(0.5 * (np.max(y) - np.min(y))) ** (1 / 3)\n",
    "    # Look for x, y points that are indentical (within a tolerance)\n",
    "    # Average out the values for these points\n",
    "    if np.all(np.isreal(v)):\n",
    "        data = np.stack((y, x, v), axis=-1)\n",
    "        yxv = mergesimpts(data, [myepsy, myepsx, np.inf], 'average')\n",
    "        x = yxv[:, 1]\n",
    "        y = yxv[:, 0]\n",
    "        v = yxv[:, 2]\n",
    "    else:\n",
    "        # If z is imaginary split out the real and imaginary parts\n",
    "        data = np.stack((y, x, np.real(v), np.imag(v)), axis=-1)\n",
    "        yxv = mergesimpts(data, [myepsy, myepsx, np.inf, np.inf], 'average')\n",
    "        x = yxv[:, 1]\n",
    "        y = yxv[:, 0]\n",
    "        # Re-combine the real and imaginary parts\n",
    "        v = yxv[:, 2] + 1j * yxv[:, 3]\n",
    "    # Give a warning if some of the points were duplicates (and averaged out)\n",
    "    # if sz > x.shape[0]:\n",
    "    #     print('MATLAB:griddata:DuplicateDataPoints')\n",
    "    return x, y, v\n",
    "\n",
    "\n",
    "def gdatav4(x: np.array, y: np.array, v: np.array, xq: np.array, yq: np.array) -> tuple[np.array, np.array, np.array]:\n",
    "    \"\"\"\n",
    "    GDATAV4 MATLAB 4 GRIDDATA interpolation\n",
    "    Reference:  David T. Sandwell, Biharmonic spline\n",
    "    interpolation of GEOS-3 and SEASAT altimeter\n",
    "    data, Geophysical Research Letters, 2, 139-142,\n",
    "    1987.  Describes interpolation using value or\n",
    "    gradient of value in any dimension.\n",
    "    \n",
    "    Args:\n",
    "        x (np.array): x-coordinates\n",
    "        y (np.array): y-coordinates\n",
    "        v (np.array): values\n",
    "        xq (np.array): x-grid\n",
    "        yq (np.array): y-grid\n",
    "\n",
    "    Returns:\n",
    "        tuple[np.array, np.array, np.array]: tuple of Xi, Yi, Zi \n",
    "    \"\"\"\n",
    "\n",
    "    x, y, v = mergepoints2D(x, y, v)\n",
    "\n",
    "    xy = x + 1j * y\n",
    "    xy = np.squeeze(xy)\n",
    "\n",
    "    # Determine distances between points\n",
    "    d = np.abs(np.subtract.outer(xy, xy))\n",
    "    # % Determine weights for interpolation\n",
    "    g = np.square(d) * (np.log(d) - 1)  # % Green's function.\n",
    "    # Fixup value of Green's function along diagonal\n",
    "    np.fill_diagonal(g, 0)\n",
    "    weights = np.linalg.lstsq(g, v)[0]\n",
    "\n",
    "    m, n = xq.shape\n",
    "    vq = np.zeros(xq.shape)\n",
    "\n",
    "    # Evaluate at requested points (xq,yq).  Loop to save memory.\n",
    "    for i in range(m):\n",
    "        for j in range(n):\n",
    "            d = np.abs(xq[i, j] + 1j * yq[i, j] - xy)\n",
    "            g = np.square(d) * (np.log(d) - 1)\n",
    "            # Value of Green's function at zero\n",
    "            g[np.where(np.isclose(d, 0))] = 0\n",
    "            vq[i, j] = (np.expand_dims(g, axis=0) @ np.expand_dims(weights, axis=1))[0][0]\n",
    "    return xq, yq, vq\n",
    "\n",
    "\n",
    "def eeg_topoplot(icawinv: np.array, Th: np.array, Rd: np.array, plotchans: np.array = None) -> np.array_equal:\n",
    "    \"\"\"\n",
    "    Generates topoplot image for ICLabel\n",
    "\n",
    "    Args:\n",
    "        icawinv (np.array): pinv(EEG.icaweights*EEG.icasphere);\n",
    "        Th (np.array): Theta coordinates of electrodes (polar)\n",
    "        Rd (np.array): Rho coordinates of electrodes (polar)\n",
    "        plotchans (np.array): plot channels\n",
    "\n",
    "    Returns:\n",
    "        np.array_equal: Heatmap values (32 x 32 image)\n",
    "    \"\"\"\n",
    "    GRID_SCALE = 32\n",
    "    RMAX = 0.5\n",
    "\n",
    "    Th = Th * np.pi / 180\n",
    "    allchansind = np.array(list(range(Th.shape[1])))\n",
    "    intchans = np.arange(0, len(plotchans))\n",
    "    x, y = pol2cart(Th, Rd)\n",
    "    # allchansind = allchansind[plotchans]\n",
    "    \n",
    "    Rd = Rd[:, plotchans]\n",
    "    x = x[:, plotchans]\n",
    "    y = y[:, plotchans]\n",
    "\n",
    "    intx = x[:, intchans]\n",
    "    inty = y[:, intchans]\n",
    "    icawinv = icawinv[plotchans]\n",
    "    intValues = icawinv[intchans]\n",
    "\n",
    "    plotrad = min(1.0, np.max(Rd) * 1.02)\n",
    "\n",
    "    # Squeeze channel locations to <= RMAX\n",
    "    squeezefac = RMAX / plotrad\n",
    "    inty *= squeezefac\n",
    "    intx *= squeezefac\n",
    "\n",
    "    xi = np.linspace(-0.5, 0.5, GRID_SCALE)\n",
    "    yi = np.linspace(-0.5, 0.5, GRID_SCALE)\n",
    "\n",
    "    XQ, YQ = np.meshgrid(xi, yi)\n",
    "    \n",
    "    # Do interpolation with v4 scheme from MATLAB\n",
    "    with warnings.catch_warnings():\n",
    "        warnings.simplefilter(\"ignore\")\n",
    "        Xi, Yi, Zi = gdatav4(inty, intx, intValues, YQ, XQ)\n",
    "\n",
    "    mask = np.sqrt(np.power(Xi, 2) + np.power(Yi, 2)) > RMAX\n",
    "\n",
    "    Zi[mask] = np.nan\n",
    "\n",
    "    return Zi.T"
   ]
  },
  {
   "cell_type": "code",
   "execution_count": 98,
   "id": "9dfc1a0b-fd69-4818-9f76-f8a129079d2f",
   "metadata": {},
   "outputs": [],
   "source": [
    "i = 10\n",
    "plotchans = np.squeeze(np.argwhere(~np.isnan(np.squeeze(Th))))\n",
    "topo = eeg_topoplot(icawinv = icawinv[:, i:i+1], Th=Th, Rd=Rd, plotchans = plotchans)"
   ]
  },
  {
   "cell_type": "code",
   "execution_count": 8,
   "id": "15a4466b-9a86-4cfc-93ec-b2b59d1a3319",
   "metadata": {},
   "outputs": [
    {
     "data": {
      "text/plain": [
       "80"
      ]
     },
     "execution_count": 8,
     "metadata": {},
     "output_type": "execute_result"
    }
   ],
   "source": [
    "trials"
   ]
  },
  {
   "cell_type": "code",
   "execution_count": 9,
   "id": "8d91107f-27e8-4fb1-b3f7-de2a715c10ab",
   "metadata": {},
   "outputs": [],
   "source": [
    "features = eeg_features(icaact = icaact, \n",
    "                        trials = trials, \n",
    "                        srate = srate, \n",
    "                        pnts=pnts, \n",
    "                        subset = None,\n",
    "                        icaweights = icaweights,\n",
    "                        icawinv = icawinv,\n",
    "                        Th = Th,\n",
    "                        Rd = Rd)"
   ]
  },
  {
   "cell_type": "code",
   "execution_count": 17,
   "id": "2fec26db-73f5-4831-a39e-150cc8b0bbda",
   "metadata": {},
   "outputs": [
    {
     "name": "stderr",
     "output_type": "stream",
     "text": [
      "/var/folders/94/8sjp_yhj77xf3pmh4s5v0ttm0000gn/T/ipykernel_85198/3065674191.py:3: ComplexWarning: Casting complex values to real discards the imaginary part\n",
      "  autocorr = features[2].astype(np.float32)\n"
     ]
    }
   ],
   "source": [
    "topo = features[0].astype(np.float32)\n",
    "psds = features[1].astype(np.float32)\n",
    "autocorr = features[2].astype(np.float32)"
   ]
  },
  {
   "cell_type": "code",
   "execution_count": 11,
   "id": "594f991e-530e-42b8-aab8-083f3a74d9fc",
   "metadata": {},
   "outputs": [],
   "source": [
    "from ICLabel import run_iclabel"
   ]
  },
  {
   "cell_type": "code",
   "execution_count": 18,
   "id": "d9cb471f-ee1e-4aad-800d-c57381fd99d1",
   "metadata": {},
   "outputs": [
    {
     "name": "stdout",
     "output_type": "stream",
     "text": [
      "(32, 32, 1, 30) (1, 100, 1, 30) (1, 100, 1, 30)\n",
      "float32 float32 float32\n"
     ]
    }
   ],
   "source": [
    "print(topo.shape, psds.shape, autocorr.shape)\n",
    "print(topo.dtype, psds.dtype, autocorr.dtype)"
   ]
  },
  {
   "cell_type": "code",
   "execution_count": 20,
   "id": "bbfaccb3-5f53-4907-96cd-517f1ae48a76",
   "metadata": {},
   "outputs": [],
   "source": [
    "labels = run_iclabel(topo, psds, autocorr)"
   ]
  },
  {
   "cell_type": "code",
   "execution_count": 22,
   "id": "e12ee660-3b78-4fcc-8dbb-b8f8ab2c46d5",
   "metadata": {},
   "outputs": [],
   "source": [
    "# Print out\n",
    "np.set_printoptions(precision=4)\n",
    "np.set_printoptions(suppress=True)"
   ]
  },
  {
   "cell_type": "code",
   "execution_count": 23,
   "id": "922ba329-0b53-45a8-b254-145ccf9b2f6e",
   "metadata": {},
   "outputs": [
    {
     "name": "stdout",
     "output_type": "stream",
     "text": [
      "[[0.5302 0.001  0.032  0.0015 0.0273 0.0551 0.353 ]\n",
      " [0.425  0.0009 0.0089 0.0006 0.0691 0.0273 0.4683]\n",
      " [0.2554 0.0001 0.0077 0.003  0.2128 0.0096 0.5113]\n",
      " [0.3174 0.002  0.0597 0.0033 0.2016 0.0884 0.3275]\n",
      " [0.1188 0.0014 0.0022 0.0071 0.5116 0.0388 0.32  ]\n",
      " [0.1053 0.0006 0.0016 0.0015 0.4571 0.0065 0.4273]\n",
      " [0.2314 0.0004 0.1386 0.0152 0.0548 0.043  0.5165]\n",
      " [0.0536 0.0033 0.0844 0.0277 0.5242 0.0086 0.2982]\n",
      " [0.341  0.0001 0.023  0.0053 0.089  0.0181 0.5236]\n",
      " [0.1197 0.0002 0.0768 0.0038 0.1132 0.0152 0.6712]\n",
      " [0.6001 0.001  0.0084 0.0045 0.0487 0.1488 0.1885]\n",
      " [0.3207 0.0006 0.0004 0.002  0.3334 0.0035 0.3395]\n",
      " [0.049  0.0003 0.0021 0.0019 0.2206 0.0037 0.7224]\n",
      " [0.1791 0.0007 0.021  0.0009 0.06   0.0099 0.7284]\n",
      " [0.2751 0.0003 0.0142 0.0183 0.2983 0.0146 0.3792]\n",
      " [0.5767 0.0001 0.0021 0.0004 0.4122 0.0006 0.008 ]\n",
      " [0.2947 0.0004 0.0034 0.0068 0.2957 0.0007 0.3984]\n",
      " [0.7006 0.0011 0.007  0.0021 0.1637 0.0034 0.1222]\n",
      " [0.8109 0.001  0.004  0.0011 0.04   0.007  0.1361]\n",
      " [0.4687 0.0006 0.0219 0.0104 0.0566 0.0056 0.4362]\n",
      " [0.7536 0.0035 0.0066 0.005  0.0387 0.0329 0.1597]\n",
      " [0.2981 0.0004 0.063  0.0017 0.0252 0.0466 0.565 ]\n",
      " [0.6844 0.004  0.0458 0.0045 0.083  0.1025 0.0759]\n",
      " [0.2669 0.0012 0.0091 0.0046 0.3963 0.0233 0.2986]\n",
      " [0.1523 0.0004 0.0119 0.0032 0.1072 0.0965 0.6286]\n",
      " [0.7311 0.0003 0.0032 0.0053 0.1215 0.0089 0.1297]\n",
      " [0.3823 0.0007 0.0035 0.0032 0.0766 0.0781 0.4558]\n",
      " [0.413  0.0003 0.0078 0.0334 0.1298 0.0632 0.3525]\n",
      " [0.4965 0.0006 0.0126 0.0065 0.4293 0.0106 0.044 ]\n",
      " [0.1363 0.0006 0.0005 0.0539 0.697  0.0719 0.0398]]\n"
     ]
    }
   ],
   "source": [
    "print(labels)"
   ]
  }
 ],
 "metadata": {
  "kernelspec": {
   "display_name": "Python 3 (ipykernel)",
   "language": "python",
   "name": "python3"
  },
  "language_info": {
   "codemirror_mode": {
    "name": "ipython",
    "version": 3
   },
   "file_extension": ".py",
   "mimetype": "text/x-python",
   "name": "python",
   "nbconvert_exporter": "python",
   "pygments_lexer": "ipython3",
   "version": "3.9.6"
  }
 },
 "nbformat": 4,
 "nbformat_minor": 5
}
