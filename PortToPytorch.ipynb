{
 "cells": [
  {
   "cell_type": "code",
   "execution_count": 1,
   "id": "dc78c122-eb59-4a02-9e98-33c2e770d30f",
   "metadata": {},
   "outputs": [],
   "source": [
    "import torch.nn as nn\n",
    "import torch"
   ]
  },
  {
   "cell_type": "code",
   "execution_count": 129,
   "id": "b070a0ff-70f4-4def-a631-f46cace24a43",
   "metadata": {},
   "outputs": [],
   "source": [
    "class ICLabelNetImg(nn.Module):\n",
    "    def __init__(self):\n",
    "        super().__init__()\n",
    "        \n",
    "        self.conv1 = nn.Conv2d(in_channels=1, \n",
    "                               out_channels = 128, \n",
    "                               kernel_size=4,\n",
    "                               padding=1,\n",
    "                               stride=2)\n",
    "        self.relu1 = nn.LeakyReLU(negative_slope = 0.2)\n",
    "        self.conv2 = nn.Conv2d(in_channels=128, \n",
    "                               out_channels = 256, \n",
    "                               kernel_size=4, \n",
    "                               padding=1,\n",
    "                               stride=2)\n",
    "        self.relu2 = nn.LeakyReLU(negative_slope = 0.2)\n",
    "        self.conv3 = nn.Conv2d(in_channels=256, \n",
    "                               out_channels = 512, \n",
    "                               kernel_size=4,\n",
    "                               padding=1,\n",
    "                               stride=2)\n",
    "        self.relu3 = nn.LeakyReLU(negative_slope = 0.2)\n",
    "        self.sequential = nn.Sequential(self.conv1, self.relu1, \n",
    "                                        self.conv2, self.relu2, \n",
    "                                        self.conv3, self.relu3)\n",
    "    \n",
    "    def forward(self, x):\n",
    "        return self.sequential(x)\n",
    "    \n",
    "class ICLabelNetPSDS(nn.Module):\n",
    "    def __init__(self):\n",
    "        super().__init__()\n",
    "        \n",
    "        self.conv1 = nn.Conv2d(in_channels=1,\n",
    "                               out_channels = 128,\n",
    "                               kernel_size=(1,3),\n",
    "                               padding=(0,1),\n",
    "                               stride=1)\n",
    "        self.relu1 = nn.LeakyReLU(negative_slope = 0.2)\n",
    "        self.conv2 = nn.Conv2d(in_channels=128, \n",
    "                               out_channels = 256, \n",
    "                               kernel_size=(1,3), \n",
    "                               padding=(0,1),\n",
    "                               stride=1)\n",
    "        self.relu2 = nn.LeakyReLU(negative_slope = 0.2)\n",
    "        self.conv3 = nn.Conv2d(in_channels=256, \n",
    "                               out_channels = 1, \n",
    "                               kernel_size=(1,3), \n",
    "                               padding=(0,1),\n",
    "                               stride=1)\n",
    "        self.relu3 = nn.LeakyReLU(negative_slope = 0.2)\n",
    "        self.sequential = nn.Sequential(self.conv1, self.relu1, \n",
    "                                        self.conv2, self.relu2, \n",
    "                                        self.conv3, self.relu3)\n",
    "    \n",
    "    def forward(self, x):\n",
    "        return self.sequential(x)\n",
    "    \n",
    "class ICLabelNetAutocorr(nn.Module):\n",
    "    def __init__(self):\n",
    "        super().__init__()\n",
    "        \n",
    "        self.conv1 = nn.Conv2d(in_channels=1,\n",
    "                               out_channels = 128,\n",
    "                               kernel_size=(1,3),\n",
    "                               padding=(0,1),\n",
    "                               stride=1)\n",
    "        self.relu1 = nn.LeakyReLU(negative_slope = 0.2)\n",
    "        self.conv2 = nn.Conv2d(in_channels=128, \n",
    "                               out_channels = 256, \n",
    "                               kernel_size=(1,3), \n",
    "                               padding=(0,1),\n",
    "                               stride=1)\n",
    "        self.relu2 = nn.LeakyReLU(negative_slope = 0.2)\n",
    "        self.conv3 = nn.Conv2d(in_channels=256,\n",
    "                               out_channels = 1,\n",
    "                               kernel_size=(1,3),\n",
    "                               padding=(0,1),\n",
    "                               stride=1)\n",
    "        self.relu3 = nn.LeakyReLU(negative_slope = 0.2)\n",
    "        self.sequential = nn.Sequential(self.conv1, self.relu1, \n",
    "                                        self.conv2, self.relu2, \n",
    "                                        self.conv3, self.relu3)\n",
    "    \n",
    "    def forward(self, x):\n",
    "        return self.sequential(x)\n",
    "    \n",
    "class ICLabelNetConvProbs(nn.Module):\n",
    "    def __init__(self):\n",
    "        super().__init__()\n",
    "        \n",
    "        self.conv = nn.Conv2d(in_channels  = 712,\n",
    "                              out_channels = 7,\n",
    "                              kernel_size  = (4,4),\n",
    "                              padding      = 0,\n",
    "                              stride       = 1)\n",
    "        self.softmax = nn.Softmax(dim=1)\n",
    "        \n",
    "        self.seq = nn.Sequential(self.conv, self.softmax)\n",
    "    \n",
    "    def forward(self, x):\n",
    "        return self.seq(x)"
   ]
  },
  {
   "cell_type": "markdown",
   "id": "07aaa18d-b9b7-4941-8c42-5735076a2006",
   "metadata": {
    "tags": []
   },
   "source": [
    "# Format input"
   ]
  },
  {
   "cell_type": "code",
   "execution_count": 3,
   "id": "6c8906d1-b97b-4716-ad89-55c21c8013a4",
   "metadata": {
    "tags": []
   },
   "outputs": [],
   "source": [
    "import scipy.io as sio\n",
    "import numpy as np"
   ]
  },
  {
   "cell_type": "code",
   "execution_count": 40,
   "id": "05157d39-aae0-445a-9c10-7971dfe07594",
   "metadata": {
    "tags": []
   },
   "outputs": [],
   "source": [
    "features = sio.loadmat('features.mat')['features']\n",
    "\n",
    "images = features[0,0]\n",
    "psds = features[0,1]\n",
    "autocorrs = features[0,2]"
   ]
  },
  {
   "cell_type": "code",
   "execution_count": 43,
   "id": "2827a36e-52da-4c3e-8d99-b81782115bec",
   "metadata": {
    "tags": []
   },
   "outputs": [],
   "source": [
    "formatted_images = np.concatenate((images, \n",
    "                                   -1 * images, \n",
    "                                   np.flip(images,axis=1), \n",
    "                                   np.flip(-1 * images,axis=1)), \n",
    "                                  axis=3)\n",
    "formatted_psds = np.repeat(psds, 4, axis=3)\n",
    "formatted_autocorrs = np.repeat(autocorrs, 4, axis=3)"
   ]
  },
  {
   "cell_type": "code",
   "execution_count": 135,
   "id": "cf62b83c-5ba2-4e1b-a3fa-04654f42d949",
   "metadata": {},
   "outputs": [],
   "source": [
    "img_tnsr = torch.permute(torch.from_numpy(formatted_images), (3, 2, 0, 1)).float()\n",
    "\n",
    "psds_tnsr = torch.from_numpy(formatted_psds).float()\n",
    "psds_tnsr = torch.permute(psds_tnsr, (3, 2, 0, 1)).float()\n",
    "\n",
    "autocorrs_tnsr = torch.from_numpy(formatted_autocorrs).float()\n",
    "autocorrs_tnsr = torch.permute(autocorrs_tnsr, (3, 2, 0, 1)).float()"
   ]
  },
  {
   "cell_type": "markdown",
   "id": "d06219e3-4e13-4b87-b2a2-c4f09eaff618",
   "metadata": {},
   "source": [
    "## ICLabel Function"
   ]
  },
  {
   "cell_type": "code",
   "execution_count": 48,
   "id": "f75841ef-2245-4448-8814-3f1809057f83",
   "metadata": {},
   "outputs": [],
   "source": [
    "def reshape_fortran(x: torch.tensor, shape) -> torch.tensor:\n",
    "    if len(x.shape) > 0:\n",
    "        x = x.permute(*reversed(range(len(x.shape))))\n",
    "    return x.reshape(*reversed(shape)).permute(*reversed(range(len(shape))))"
   ]
  },
  {
   "cell_type": "code",
   "execution_count": 149,
   "id": "1bf2477e-4ad9-49c0-a683-1e397f6b821a",
   "metadata": {},
   "outputs": [],
   "source": [
    "def run_iclabel(images, psds, autocorr):\n",
    "    img_net = ICLabelNetImg()\n",
    "\n",
    "    # Load Params\n",
    "    img_params = sio.loadmat('img_params.mat')\n",
    "    permute = (3,2,0,1)\n",
    "    img_weight1 = torch.permute(torch.from_numpy(img_params['conv1_kernel']), permute)\n",
    "    img_weight2 = torch.permute(torch.from_numpy(img_params['conv2_kernel']), permute)\n",
    "    img_weight3 = torch.permute(torch.from_numpy(img_params['conv3_kernel']), permute)\n",
    "    img_bias1   = torch.squeeze(torch.from_numpy(img_params['conv1_bias']))\n",
    "    img_bias2   = torch.squeeze(torch.from_numpy(img_params['conv2_bias']))\n",
    "    img_bias3   = torch.squeeze(torch.from_numpy(img_params['conv3_bias']))\n",
    "\n",
    "    img_net.state_dict()['conv1.weight'][:] = img_weight1\n",
    "    img_net.state_dict()['conv1.bias'][:] = img_bias1\n",
    "    img_net.state_dict()['conv2.weight'][:] = img_weight2\n",
    "    img_net.state_dict()['conv2.bias'][:] = img_bias2\n",
    "    img_net.state_dict()['conv3.weight'][:] = img_weight3\n",
    "    img_net.state_dict()['conv3.bias'][:] = img_bias3\n",
    "    \n",
    "    # PSDS\n",
    "    psds_net = ICLabelNetPSDS()\n",
    "\n",
    "    # Load Params\n",
    "    psds_params = sio.loadmat('psds_params.mat')\n",
    "\n",
    "    psds_weight1 = torch.permute(torch.from_numpy(psds_params['conv1_kernel']), permute)\n",
    "    psds_weight2 = torch.permute(torch.from_numpy(psds_params['conv2_kernel']), permute)\n",
    "    psds_weight3 = torch.permute(torch.from_numpy(np.expand_dims(psds_params['conv3_kernel'], axis=2)), (2,3,0,1))\n",
    "    psds_bias1   = torch.squeeze(torch.from_numpy(psds_params['conv1_bias']))\n",
    "    psds_bias2   = torch.squeeze(torch.from_numpy(psds_params['conv2_bias']))\n",
    "    psds_bias3   = torch.squeeze(torch.from_numpy(psds_params['conv3_bias']))\n",
    "\n",
    "    psds_net.state_dict()['conv1.weight'][:] = psds_weight1\n",
    "    psds_net.state_dict()['conv1.bias'][:]   = psds_bias1\n",
    "    psds_net.state_dict()['conv2.weight'][:] = psds_weight2\n",
    "    psds_net.state_dict()['conv2.bias'][:]   = psds_bias2\n",
    "    psds_net.state_dict()['conv3.weight'][:] = psds_weight3\n",
    "    psds_net.state_dict()['conv3.bias'][:]   = psds_bias3\n",
    "    \n",
    "    # Autocorr\n",
    "    autocorr_net = ICLabelNetAutocorr()\n",
    "\n",
    "    # Load Params\n",
    "    autocorr_params = sio.loadmat('autocorrs_params.mat')\n",
    "\n",
    "    autocorr_weight1 = torch.permute(torch.from_numpy(autocorr_params['conv1_kernel']), permute)\n",
    "    autocorr_weight2 = torch.permute(torch.from_numpy(autocorr_params['conv2_kernel']), permute)\n",
    "    autocorr_weight3 = torch.permute(torch.from_numpy(np.expand_dims(autocorr_params['conv3_kernel'], axis=2)), (2,3,0,1))\n",
    "    autocorr_bias1   = torch.squeeze(torch.from_numpy(autocorr_params['conv1_bias']))\n",
    "    autocorr_bias2   = torch.squeeze(torch.from_numpy(autocorr_params['conv2_bias']))\n",
    "    autocorr_bias3   = torch.squeeze(torch.from_numpy(autocorr_params['conv3_bias']))\n",
    "\n",
    "    autocorr_net.state_dict()['conv1.weight'][:] = autocorr_weight1\n",
    "    autocorr_net.state_dict()['conv1.bias'][:]   = autocorr_bias1\n",
    "    autocorr_net.state_dict()['conv2.weight'][:] = autocorr_weight2\n",
    "    autocorr_net.state_dict()['conv2.bias'][:]   = autocorr_bias2\n",
    "    autocorr_net.state_dict()['conv3.weight'][:] = autocorr_weight3\n",
    "    autocorr_net.state_dict()['conv3.bias'][:]   = autocorr_bias3\n",
    "    \n",
    "    # Reshape and Concat\n",
    "    out_img = img_net(images)\n",
    "    out_psds = psds_net(psds)\n",
    "    out_autocorr = autocorr_net(autocorr)\n",
    "\n",
    "    # PSDS reshape, concat, permute\n",
    "    psds_reshape = reshape_fortran(out_psds, [-1,1,1,100])\n",
    "    psds_concat1 = torch.concat([psds_reshape, psds_reshape, psds_reshape, psds_reshape], 1)\n",
    "    psds_concat2 = torch.concat([psds_concat1, psds_concat1, psds_concat1, psds_concat1], 2)\n",
    "    psds_perm = torch.permute(psds_concat2, (0, 3, 1, 2))\n",
    "\n",
    "    # Autocorr reshape, concat, permute\n",
    "    autocorr_reshape = reshape_fortran(out_autocorr, [-1, 1, 1, 100])\n",
    "    autocorr_concat1 = torch.concat([autocorr_reshape, autocorr_reshape, autocorr_reshape, autocorr_reshape], 1)\n",
    "    autocorr_concat2 = torch.concat([autocorr_concat1, autocorr_concat1, autocorr_concat1, autocorr_concat1], 2)\n",
    "    autocorr_perm = torch.permute(autocorr_concat2, (0, 3, 1, 2))\n",
    "\n",
    "    concat = torch.concat([out_img, psds_perm, autocorr_perm], 1)\n",
    "    \n",
    "    # Final Conv and Softmax\n",
    "    convNet = ICLabelNetConvProbs()\n",
    "\n",
    "    # Load Params\n",
    "    conv_params = sio.loadmat('conv_params.mat')\n",
    "\n",
    "    conv_weight1 = torch.permute(torch.from_numpy(conv_params['conv_kernel']), permute)\n",
    "    conv_bias1   = torch.squeeze(torch.from_numpy(conv_params['conv_bias']))\n",
    "\n",
    "    convNet.state_dict()['conv.weight'][:] = conv_weight1\n",
    "    convNet.state_dict()['conv.bias'][:]   = conv_bias1\n",
    "    \n",
    "    labels = convNet(concat)\n",
    "    labels = labels.squeeze()\n",
    "    labels = reshape_fortran(labels.permute(1,0), [-1, 4])\n",
    "    labels = torch.mean(labels, 1)\n",
    "    labels = reshape_fortran(labels, [7, -1])\n",
    "    labels = labels.permute(1,0)\n",
    "    \n",
    "    return labels.detach().numpy()"
   ]
  },
  {
   "cell_type": "code",
   "execution_count": 150,
   "id": "232dbcc4-e539-4db7-ad09-2ce1b727664d",
   "metadata": {},
   "outputs": [],
   "source": [
    "labels_npy = run_iclabel(img_tnsr, psds_tnsr, autocorrs_tnsr)"
   ]
  },
  {
   "cell_type": "code",
   "execution_count": 138,
   "id": "2ccfc681-36ec-48a5-b2d5-fa51859f165a",
   "metadata": {},
   "outputs": [],
   "source": [
    "np.set_printoptions(precision=4)\n",
    "np.set_printoptions(suppress=True)"
   ]
  },
  {
   "cell_type": "code",
   "execution_count": 142,
   "id": "6bea7076-f1f5-4019-92a9-c282231c0255",
   "metadata": {},
   "outputs": [
    {
     "data": {
      "text/plain": [
       "array([[0.8979, 0.0001, 0.0002, 0.0002, 0.0973, 0.0005, 0.0037],\n",
       "       [0.2666, 0.0006, 0.6091, 0.0025, 0.0679, 0.0033, 0.05  ],\n",
       "       [0.4624, 0.0003, 0.0005, 0.0009, 0.4914, 0.0064, 0.0381],\n",
       "       [0.756 , 0.0003, 0.0003, 0.0008, 0.1112, 0.0007, 0.1307],\n",
       "       [0.9765, 0.0002, 0.0011, 0.0002, 0.0152, 0.0009, 0.0059],\n",
       "       [0.2402, 0.0011, 0.4898, 0.0064, 0.1726, 0.0045, 0.0853],\n",
       "       [0.704 , 0.0004, 0.1368, 0.0058, 0.1156, 0.0021, 0.0354],\n",
       "       [0.8704, 0.0008, 0.0013, 0.0007, 0.0871, 0.0007, 0.039 ],\n",
       "       [0.6157, 0.0002, 0.0004, 0.0005, 0.3623, 0.0011, 0.0198],\n",
       "       [0.8579, 0.0011, 0.0004, 0.0012, 0.106 , 0.0014, 0.0319],\n",
       "       [0.2302, 0.002 , 0.004 , 0.0008, 0.6885, 0.0337, 0.0407],\n",
       "       [0.8634, 0.0006, 0.0003, 0.0003, 0.0786, 0.0013, 0.0554],\n",
       "       [0.2203, 0.0006, 0.0219, 0.0039, 0.2163, 0.0171, 0.5198],\n",
       "       [0.5618, 0.0002, 0.001 , 0.0009, 0.1016, 0.0003, 0.3342],\n",
       "       [0.9025, 0.0003, 0.0034, 0.0023, 0.0338, 0.0013, 0.0565],\n",
       "       [0.1397, 0.0001, 0.0004, 0.0015, 0.2582, 0.0004, 0.5998],\n",
       "       [0.353 , 0.    , 0.0005, 0.0013, 0.6417, 0.0007, 0.0028],\n",
       "       [0.2758, 0.    , 0.0001, 0.0003, 0.7173, 0.0001, 0.0065],\n",
       "       [0.4694, 0.0001, 0.0002, 0.0012, 0.4753, 0.0008, 0.0529],\n",
       "       [0.6196, 0.0003, 0.0005, 0.0024, 0.3401, 0.0005, 0.0366],\n",
       "       [0.3343, 0.002 , 0.0011, 0.0031, 0.4072, 0.0032, 0.2491],\n",
       "       [0.3381, 0.0004, 0.0001, 0.0025, 0.6082, 0.0006, 0.0502],\n",
       "       [0.5003, 0.002 , 0.0065, 0.034 , 0.3793, 0.0076, 0.0702],\n",
       "       [0.7313, 0.0002, 0.0012, 0.0013, 0.1567, 0.0034, 0.1058],\n",
       "       [0.2774, 0.0007, 0.0021, 0.0012, 0.2281, 0.0029, 0.4876],\n",
       "       [0.5105, 0.0005, 0.0001, 0.0027, 0.4276, 0.001 , 0.0576],\n",
       "       [0.258 , 0.0005, 0.0032, 0.0015, 0.2807, 0.0008, 0.4551],\n",
       "       [0.1781, 0.0047, 0.0015, 0.0083, 0.5626, 0.0032, 0.2415],\n",
       "       [0.6766, 0.0001, 0.0008, 0.0004, 0.2747, 0.007 , 0.0403],\n",
       "       [0.8549, 0.0004, 0.0002, 0.0012, 0.1236, 0.0102, 0.0096],\n",
       "       [0.4276, 0.0015, 0.0026, 0.0015, 0.4424, 0.0418, 0.0827],\n",
       "       [0.4293, 0.0004, 0.0008, 0.0059, 0.2925, 0.0513, 0.2197]],\n",
       "      dtype=float32)"
      ]
     },
     "execution_count": 142,
     "metadata": {},
     "output_type": "execute_result"
    }
   ],
   "source": [
    "labels_npy"
   ]
  },
  {
   "cell_type": "code",
   "execution_count": 143,
   "id": "ea119432-f4d8-4551-96bb-bcbe5e862d81",
   "metadata": {},
   "outputs": [
    {
     "data": {
      "text/plain": [
       "array([[0.9883, 0.    , 0.    , 0.    , 0.0117, 0.    , 0.    ],\n",
       "       [0.0066, 0.0005, 0.9627, 0.0009, 0.0042, 0.0028, 0.0224],\n",
       "       [0.1333, 0.0004, 0.0009, 0.0021, 0.7133, 0.016 , 0.1339],\n",
       "       [0.8638, 0.    , 0.0002, 0.0007, 0.1096, 0.0001, 0.0256],\n",
       "       [0.9924, 0.    , 0.    , 0.    , 0.0073, 0.    , 0.0002],\n",
       "       [0.0061, 0.0007, 0.7202, 0.0013, 0.2251, 0.0043, 0.0423],\n",
       "       [0.7828, 0.    , 0.0044, 0.002 , 0.2021, 0.0008, 0.0078],\n",
       "       [0.8543, 0.    , 0.    , 0.    , 0.1453, 0.    , 0.0004],\n",
       "       [0.9153, 0.    , 0.    , 0.    , 0.084 , 0.    , 0.0006],\n",
       "       [0.9927, 0.    , 0.    , 0.0001, 0.0071, 0.    , 0.0001],\n",
       "       [0.6861, 0.0016, 0.0017, 0.0006, 0.2643, 0.0097, 0.0359],\n",
       "       [0.9949, 0.    , 0.    , 0.    , 0.0038, 0.    , 0.0012],\n",
       "       [0.0611, 0.0002, 0.0072, 0.0024, 0.6473, 0.0106, 0.2712],\n",
       "       [0.5056, 0.0001, 0.0003, 0.0004, 0.4238, 0.    , 0.0698],\n",
       "       [0.3032, 0.    , 0.0011, 0.0005, 0.6825, 0.0006, 0.012 ],\n",
       "       [0.0548, 0.0001, 0.0003, 0.0013, 0.344 , 0.0007, 0.5988],\n",
       "       [0.2339, 0.0005, 0.0052, 0.0046, 0.7162, 0.006 , 0.0337],\n",
       "       [0.6368, 0.    , 0.    , 0.0002, 0.3552, 0.0001, 0.0077],\n",
       "       [0.2893, 0.0003, 0.0003, 0.0048, 0.5343, 0.0112, 0.1598],\n",
       "       [0.7079, 0.0029, 0.0016, 0.0096, 0.032 , 0.0037, 0.2423],\n",
       "       [0.1158, 0.0003, 0.0005, 0.0011, 0.8492, 0.0016, 0.0314],\n",
       "       [0.5663, 0.    , 0.    , 0.0009, 0.4268, 0.0002, 0.0059],\n",
       "       [0.6249, 0.0059, 0.0105, 0.0448, 0.1248, 0.0177, 0.1714],\n",
       "       [0.9833, 0.    , 0.    , 0.0002, 0.0067, 0.0001, 0.0097],\n",
       "       [0.1803, 0.0014, 0.0026, 0.0011, 0.0182, 0.0047, 0.7916],\n",
       "       [0.6799, 0.0002, 0.0001, 0.0029, 0.2507, 0.0007, 0.0654],\n",
       "       [0.0471, 0.0003, 0.0035, 0.0036, 0.2841, 0.0039, 0.6575],\n",
       "       [0.2032, 0.0037, 0.0043, 0.0201, 0.3426, 0.0122, 0.4139],\n",
       "       [0.1965, 0.0001, 0.0007, 0.0003, 0.7901, 0.0014, 0.0109],\n",
       "       [0.8327, 0.0014, 0.0009, 0.0068, 0.063 , 0.0285, 0.0666],\n",
       "       [0.225 , 0.0024, 0.0081, 0.0072, 0.4787, 0.0573, 0.2213],\n",
       "       [0.3212, 0.0029, 0.0025, 0.0039, 0.1097, 0.0544, 0.5054]],\n",
       "      dtype=float32)"
      ]
     },
     "execution_count": 143,
     "metadata": {},
     "output_type": "execute_result"
    }
   ],
   "source": [
    "labels_mat = sio.loadmat('labels.mat')['labels']\n",
    "labels_mat"
   ]
  },
  {
   "cell_type": "code",
   "execution_count": 124,
   "id": "9f00c0f3-12ef-4e49-b7c9-c3ff06d42f95",
   "metadata": {},
   "outputs": [
    {
     "data": {
      "text/plain": [
       "0.64871955"
      ]
     },
     "execution_count": 124,
     "metadata": {},
     "output_type": "execute_result"
    }
   ],
   "source": [
    "np.max(np.abs(labels_mat - labels_npy))"
   ]
  },
  {
   "cell_type": "code",
   "execution_count": 127,
   "id": "d147fbd4-b086-4fa6-9eea-b06b28e1e3d1",
   "metadata": {},
   "outputs": [
    {
     "data": {
      "text/plain": [
       "array([0, 2, 4, 0, 0, 2, 0, 0, 0, 0, 4, 0, 6, 0, 0, 6, 4, 4, 4, 0, 4, 4,\n",
       "       0, 0, 6, 0, 6, 4, 0, 0, 4, 0])"
      ]
     },
     "execution_count": 127,
     "metadata": {},
     "output_type": "execute_result"
    }
   ],
   "source": [
    "np.argmax(labels_npy, axis=1)"
   ]
  },
  {
   "cell_type": "code",
   "execution_count": 128,
   "id": "f9674ebb-e132-460d-bb67-f6b6e3fc15d9",
   "metadata": {},
   "outputs": [
    {
     "data": {
      "text/plain": [
       "array([0, 2, 4, 0, 0, 2, 0, 0, 0, 0, 0, 0, 4, 0, 4, 6, 4, 0, 4, 0, 4, 0,\n",
       "       0, 0, 6, 0, 6, 6, 4, 0, 4, 6])"
      ]
     },
     "execution_count": 128,
     "metadata": {},
     "output_type": "execute_result"
    }
   ],
   "source": [
    "np.argmax(labels_mat, axis=1)"
   ]
  },
  {
   "cell_type": "code",
   "execution_count": null,
   "id": "098ee449-f3a8-4119-b4c6-4fc768f72134",
   "metadata": {},
   "outputs": [],
   "source": []
  }
 ],
 "metadata": {
  "kernelspec": {
   "display_name": "Python 3 (ipykernel)",
   "language": "python",
   "name": "python3"
  },
  "language_info": {
   "codemirror_mode": {
    "name": "ipython",
    "version": 3
   },
   "file_extension": ".py",
   "mimetype": "text/x-python",
   "name": "python",
   "nbconvert_exporter": "python",
   "pygments_lexer": "ipython3",
   "version": "3.9.6"
  }
 },
 "nbformat": 4,
 "nbformat_minor": 5
}
